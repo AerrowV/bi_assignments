{
 "cells": [
  {
   "cell_type": "markdown",
   "id": "ff1bdeca",
   "metadata": {},
   "source": [
    "\n",
    "# 🏥 BI Dashboard Notebook — Hospitals & Waiting Times\n",
    "\n",
    "This notebook is designed to **run your existing BI Python script** and present **all diagrams** with clear, structured explanations.  \n",
    "You can keep developing in the `.py` file, and simply re-run this notebook to refresh all visuals.\n",
    "\n",
    "**What you get here:**\n",
    "- Import & execute your existing Python file (no code duplication)\n",
    "- Narrative markdown cells explaining **what the code does** and **what the charts show**\n",
    "- Optional utility cells to re-run specific plots without re-importing everything\n"
   ]
  },
  {
   "cell_type": "markdown",
   "id": "b7ffbb52",
   "metadata": {},
   "source": [
    "\n",
    "## 1) Configuration\n",
    "\n",
    "Set the path to your BI Python file below.  \n",
    "Place this notebook **in the same project** as your `data/` folder so the script can resolve relative paths correctly.\n"
   ]
  },
  {
   "cell_type": "code",
   "execution_count": null,
   "id": "ac138133",
   "metadata": {},
   "outputs": [],
   "source": [
    "\n",
    "# --- REQUIRED: point to your BI script (.py) ---\n",
    "# If this notebook sits next to your .py file, the default below will work.\n",
    "PY_FILE = \"e8378042-da47-43d4-a7f4-446cdaecb2ab.py\"\n",
    "\n",
    "# If your file has a different name or location, update the path:\n",
    "# PY_FILE = \"path/to/your_script.py\"\n"
   ]
  },
  {
   "cell_type": "markdown",
   "id": "d307b4b7",
   "metadata": {},
   "source": [
    "\n",
    "## 2) Environment (optional)\n",
    "\n",
    "If you're running this for the first time in a fresh environment, you may need these installs.  \n",
    "If everything already works, you can **skip** this cell.\n"
   ]
  },
  {
   "cell_type": "code",
   "execution_count": null,
   "id": "d2a503ed",
   "metadata": {},
   "outputs": [],
   "source": [
    "\n",
    "# Uncomment if needed\n",
    "# %pip install pandas numpy matplotlib seaborn scikit-learn graphviz scipy openpyxl\n"
   ]
  },
  {
   "cell_type": "markdown",
   "id": "9e5b1826",
   "metadata": {},
   "source": [
    "\n",
    "## 3) Import the BI module (executes your code)\n",
    "\n",
    "The cell below **imports your `.py` file as a module** and executes it once.  \n",
    "Since your script defines `BASE_DIR` using `__file__`, importing it this way ensures the `data/` paths work correctly.\n",
    "\n",
    "> **Note:** Because your `.py` runs its plotting code at top-level, importing the module will **display all figures** once.\n"
   ]
  },
  {
   "cell_type": "code",
   "execution_count": null,
   "id": "563cb927",
   "metadata": {},
   "outputs": [],
   "source": [
    "\n",
    "import importlib.util, sys, pathlib\n",
    "\n",
    "mod_name = \"bi_project_module\"\n",
    "py_path = pathlib.Path(PY_FILE).resolve()\n",
    "assert py_path.exists(), f\"File not found: {py_path}\"\n",
    "\n",
    "spec = importlib.util.spec_from_file_location(mod_name, str(py_path))\n",
    "bi = importlib.util.module_from_spec(spec)\n",
    "sys.modules[mod_name] = bi\n",
    "spec.loader.exec_module(bi)\n",
    "\n",
    "print(f\"Imported {mod_name} from {py_path}\")\n"
   ]
  },
  {
   "cell_type": "markdown",
   "id": "3b439bfe",
   "metadata": {},
   "source": [
    "\n",
    "## 4) Quick data sanity check\n",
    "\n",
    "Peek at the cleaned frames exposed by your module to confirm shapes and a few rows.\n"
   ]
  },
  {
   "cell_type": "code",
   "execution_count": null,
   "id": "2396cf23",
   "metadata": {},
   "outputs": [],
   "source": [
    "\n",
    "import pandas as pd\n",
    "\n",
    "frames = {\n",
    "    \"riget_disp_clean_df\": getattr(bi, \"riget_disp_clean_df\", None),\n",
    "    \"riget_norm_clean_df\": getattr(bi, \"riget_norm_clean_df\", None),\n",
    "    \"aarhus_disp_clean_df\": getattr(bi, \"aarhus_disp_clean_df\", None),\n",
    "    \"aarhus_norm_clean_df\": getattr(bi, \"aarhus_norm_clean_df\", None),\n",
    "    \"wp_hstaden_clean_df\": getattr(bi, \"wp_hstaden_clean_df\", None),\n",
    "    \"wp_mjylland_clean_df\": getattr(bi, \"wp_mjylland_clean_df\", None),\n",
    "    \"all_hosp_disp\": getattr(bi, \"all_hosp_disp\", None),\n",
    "    \"all_hosp_norm\": getattr(bi, \"all_hosp_norm\", None),\n",
    "}\n",
    "\n",
    "for name, df in frames.items():\n",
    "    if isinstance(df, pd.DataFrame):\n",
    "        print(f\"{name:>24}: shape={df.shape}\")\n",
    "        display(df.head(3))\n"
   ]
  },
  {
   "cell_type": "markdown",
   "id": "4760ae3f",
   "metadata": {},
   "source": [
    "\n",
    "## 5) What the code does (high level)\n",
    "\n",
    "**Load & Clean**\n",
    "- Loads hospital bed capacity datasets (available and occupied) for **Rigshospitalet** and **Aarhus Universitetshospital**.\n",
    "- Loads patient **waiting time** buckets for **Region Hovedstaden** and **Region Midtjylland**.\n",
    "- Fixes header issues, standardizes column names, enforces valid year/month, and converts numeric columns.\n",
    "\n",
    "**Combine**\n",
    "- Concatenates hospitals and regions into `all_hosp_disp`, `all_hosp_norm`, and a long-form waiting dataset.\n",
    "- Computes `TotalBeds` per region-month for capacity comparisons.\n",
    "\n",
    "**Visualize**\n",
    "- **Histograms** for bed counts by department.\n",
    "- **Time-series line plots** for departments over time.\n",
    "- **Correlation heatmaps** for department-level relationships.\n",
    "- **Scatter**: patients waiting vs available beds (colored by waiting bucket; styled by region).\n",
    "- **Bar plots**: average beds per year.\n",
    "- **Box plots**: distribution of beds across departments.\n"
   ]
  },
  {
   "cell_type": "markdown",
   "id": "2876040d",
   "metadata": {},
   "source": [
    "\n",
    "## 6) Histograms — Distribution of beds\n",
    "\n",
    "These histograms show how bed counts are distributed across months for each department (**Kirurgi, Medicin, Onkologi, Øvrige**).  \n",
    "Use them to spot **skew**, **outliers**, and **typical ranges**.\n",
    "\n",
    "> Already rendered when you imported the module. Re-run below to regenerate selectively.\n"
   ]
  },
  {
   "cell_type": "code",
   "execution_count": null,
   "id": "a65657f3",
   "metadata": {},
   "outputs": [],
   "source": [
    "\n",
    "# Re-run selected histograms (optional)\n",
    "bi.plot_hosp_histogram(bi.riget_disp_clean_df, title=\"Available Beds Riget\")\n",
    "bi.plot_hosp_histogram(bi.riget_norm_clean_df, title=\"Occupied Beds Riget\")\n",
    "bi.plot_hosp_histogram(bi.aarhus_disp_clean_df, title=\"Available Beds Aarhus\")\n",
    "bi.plot_hosp_histogram(bi.aarhus_norm_clean_df, title=\"Occupied Beds Aarhus\")\n",
    "bi.plot_hosp_histogram(bi.all_hosp_disp, title=\"All Available\")\n",
    "bi.plot_hosp_histogram(bi.all_hosp_norm, title=\"All Occupied\")\n"
   ]
  },
  {
   "cell_type": "markdown",
   "id": "0f51d48a",
   "metadata": {},
   "source": [
    "\n",
    "## 7) Beds over time — Trends\n",
    "\n",
    "Time-series charts show month-by-month trends for departments.  \n",
    "Use them to identify **seasonality**, **shifts in capacity**, or **structural changes**.\n"
   ]
  },
  {
   "cell_type": "code",
   "execution_count": null,
   "id": "64a8dd10",
   "metadata": {},
   "outputs": [],
   "source": [
    "\n",
    "# Re-run selected time-series (optional)\n",
    "bi.plot_beds_over_time(bi.riget_disp_clean_df, title=\"Available Beds Riget\")\n",
    "bi.plot_beds_over_time(bi.riget_norm_clean_df, title=\"Occupied Beds Riget\")\n",
    "bi.plot_beds_over_time(bi.aarhus_disp_clean_df, title=\"Available Beds Aarhus\")\n",
    "bi.plot_beds_over_time(bi.aarhus_norm_clean_df, title=\"Occupied Beds Aarhus\")\n"
   ]
  },
  {
   "cell_type": "markdown",
   "id": "7af132aa",
   "metadata": {},
   "source": [
    "\n",
    "## 8) Correlation heatmaps — Department relationships\n",
    "\n",
    "Correlation heatmaps compare departments to see whether capacity tends to **move together** (positive) or **trade off** (negative).  \n",
    "Beware that correlation ≠ causation; these simply indicate **linear co-movement**.\n"
   ]
  },
  {
   "cell_type": "code",
   "execution_count": null,
   "id": "aa2dec9d",
   "metadata": {},
   "outputs": [],
   "source": [
    "\n",
    "# Re-run heatmaps (optional)\n",
    "bi.plot_correlation_heatmap(bi.all_hosp_disp, title=\"Hospital Bed Data (available) — Correlation Heatmap\")\n",
    "bi.plot_correlation_heatmap(bi.all_hosp_norm, title=\"Hospital Bed Data (occupied) — Correlation Heatmap\")\n"
   ]
  },
  {
   "cell_type": "markdown",
   "id": "f1facb8a",
   "metadata": {},
   "source": [
    "\n",
    "## 9) Waiting patients vs available beds — Capacity signal\n",
    "\n",
    "This scatter compares **patients waiting** (y-axis) against **available beds** (x-axis), segmented by `bucket` (waiting time bands) and region.  \n",
    "Look for patterns such as **higher waiting at lower capacity** or **bucket-specific clustering**.\n"
   ]
  },
  {
   "cell_type": "code",
   "execution_count": null,
   "id": "31fe9584",
   "metadata": {},
   "outputs": [],
   "source": [
    "\n",
    "# Re-run the scatter (optional)\n",
    "bi.plot_wait_vs_capacity_scatter(bi.wait_vs_beds, title=\"Waiting Patients vs Available Beds\")\n"
   ]
  },
  {
   "cell_type": "markdown",
   "id": "31a77a4c",
   "metadata": {},
   "source": [
    "\n",
    "## 10) Average beds per year — Capacity levels\n",
    "\n",
    "Bar charts show the **average** beds per year by department.  \n",
    "Use to communicate **year-over-year** changes at a glance.\n"
   ]
  },
  {
   "cell_type": "code",
   "execution_count": null,
   "id": "e78d4105",
   "metadata": {},
   "outputs": [],
   "source": [
    "\n",
    "# Re-run yearly averages (optional)\n",
    "bi.plot_avg_beds_per_year(bi.riget_disp_clean_df, group_col=\"År\", title=\"Riget — Avg Available Beds per Year\")\n",
    "bi.plot_avg_beds_per_year(bi.aarhus_disp_clean_df, group_col=\"År\", title=\"Aarhus — Avg Available Beds per Year\")\n"
   ]
  },
  {
   "cell_type": "markdown",
   "id": "795fbcd0",
   "metadata": {},
   "source": [
    "\n",
    "## 11) Box plots — Variability across departments\n",
    "\n",
    "Box plots summarize **median**, **interquartile range**, and **outliers** for each department.  \n",
    "Great for highlighting **spread** and **comparative variability**.\n"
   ]
  },
  {
   "cell_type": "code",
   "execution_count": null,
   "id": "b87564c8",
   "metadata": {},
   "outputs": [],
   "source": [
    "\n",
    "# Re-run box plots (optional)\n",
    "bi.plot_department_boxplots(bi.all_hosp_disp, \"Available Beds — Boxplot per Department\")\n",
    "bi.plot_department_boxplots(bi.all_hosp_norm, \"Occupied Beds — Boxplot per Department\")\n"
   ]
  },
  {
   "cell_type": "markdown",
   "id": "44d9c4fc",
   "metadata": {},
   "source": [
    "\n",
    "## 12) Tips & next steps\n",
    "\n",
    "- To keep imports clean, consider moving plot calls in your `.py` under `if __name__ == \"__main__\":` and exposing functions only.  \n",
    "  The notebook can then call the functions explicitly — giving you full control over which figures render.\n",
    "- You can add **parameter cells** (e.g., date filters, region selection) and pass them into your plotting functions.\n",
    "- Notebook generated on **2025-10-01 19:06**.\n"
   ]
  }
 ],
 "metadata": {},
 "nbformat": 4,
 "nbformat_minor": 5
}
