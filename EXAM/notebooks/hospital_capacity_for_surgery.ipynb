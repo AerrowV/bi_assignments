{
 "cells": [
  {
   "cell_type": "markdown",
   "id": "ac6e8144",
   "metadata": {},
   "source": [
    "# Surgical Capacity and Waiting Times for Planned Surgeries in Denmark  \n",
    "*A Regional and Temporal Analysis Based in 2020-2025* "
   ]
  },
  {
   "cell_type": "markdown",
   "id": "54b29d01",
   "metadata": {},
   "source": [
    "# Problem Statement\n",
    "**How does the capacity of _surgical_ hospital beds (available/normed) and surgical activity affect waiting times for planned surgery in the five Danish regions?**\n",
    "\n",
    "---\n",
    "\n",
    "## Sub-questions\n",
    "\n",
    "### Development over time (surgery)\n",
    "- How has the number of **surgically available** and **surgically normed** beds changed over time per region?\n",
    "- Are there **seasonal fluctuations** in capacity, waiting-time buckets, and number of surgeries?\n",
    "\n",
    "### Comparison of regions (surgery)\n",
    "- Which regions have the highest/lowest **surgical capacity level**, and how has the development been?\n",
    "- Which regions have **shorter waiting times relative to capacity** (e.g., waiting list per 100 surgically available beds)?\n",
    "\n",
    "### Relationship between waiting time and capacity/activity (surgery)\n",
    "- Is there a **correlation** between **surgically available beds** and the number of patients in waiting-time buckets (0–30, 31–60, 61–90, 90+ days)?\n",
    "- Is **more surgically available beds** and/or **higher surgical activity** associated with **shorter waiting times**?\n",
    "\n",
    "### Statistical analyses / models (surgery)\n",
    "- Can a **(multi)linear regression** predict the waiting list / 90+ share based on **surgical capacity** and **surgical activity** (with month/region controls)?\n",
    "- Can a **classification model** identify months with **high load** (e.g., top-25% 90+ waiting time)?  \n",
    "  (Evaluated with **confusion matrix**, accuracy/F1.)\n",
    "- Do **correlation heatmaps, tree models, clusters,** and **3D visualizations** provide consistent patterns?"
   ]
  },
  {
   "cell_type": "code",
   "execution_count": null,
   "id": "dddeb863",
   "metadata": {},
   "outputs": [],
   "source": [
    "# Use `src/hosp_dataloader.py` to load the surgical datasets.\n",
    "\n",
    "import sys, os\n",
    "sys.path.append(os.path.join(os.path.dirname(os.getcwd()), \"src\"))"
   ]
  },
  {
   "cell_type": "code",
   "execution_count": null,
   "id": "8f1d1263",
   "metadata": {},
   "outputs": [],
   "source": [
    "# Import the hosp_dataloader module and preview the datasets (loaded as pandas DataFrames)\n",
    "\n",
    "import hosp_dataloader as hd\n",
    "from IPython.display import display\n",
    "\n",
    "kir_op = hd.kir_op\n",
    "kir_sp = hd.kir_sp\n",
    "kir_vt = hd.kir_vt\n",
    "\n",
    "display(kir_op.head())\n",
    "display(kir_sp.head())\n",
    "display(kir_vt.head())"
   ]
  },
  {
   "cell_type": "markdown",
   "id": "a3f01d17",
   "metadata": {},
   "source": [
    "## Explanation\n",
    "- `kir_op`: Surgical operations by region/year/month  \n",
    "- `kir_sp`: Surgical bed capacity (available vs. normed) by region/year/month  \n",
    "- `kir_vt`: Waiting-time buckets (0–30, 31–60, 61–90, 90+ days) by region/year/month  "
   ]
  },
  {
   "cell_type": "code",
   "execution_count": null,
   "id": "24146469",
   "metadata": {},
   "outputs": [],
   "source": [
    "# Show the size of each DataFrame (number of rows and columns)\n",
    "\n",
    "for name, df in [(\"operations\", kir_op), (\"beds\", kir_sp), (\"waiting\", kir_vt)]:\n",
    "    print(f\"{name}: {df.shape}\")"
   ]
  },
  {
   "cell_type": "code",
   "execution_count": null,
   "id": "c9cbefe3",
   "metadata": {},
   "outputs": [],
   "source": [
    "# Apply the cleaning function from hosp_clean.py to each dataset \n",
    "# so they have consistent columns, valid year/month, and a proper 'Dato' column\n",
    "\n",
    "import hosp_clean as hc\n",
    "\n",
    "kir_op_cleaned = hc.clean(kir_op)\n",
    "kir_sp_cleaned = hc.clean(kir_sp)\n",
    "kir_vt_cleaned = hc.clean(kir_vt)"
   ]
  },
  {
   "cell_type": "code",
   "execution_count": null,
   "id": "e92d4372",
   "metadata": {},
   "outputs": [],
   "source": [
    "# Display dataset structure (.info) for operations, beds, and waiting,\n",
    "# with section headers to make the outputs easy to distinguish"
   ]
  },
  {
   "cell_type": "code",
   "execution_count": null,
   "id": "f11396ae",
   "metadata": {},
   "outputs": [],
   "source": [
    "print(\"=== Operations ===\")\n",
    "kir_op_cleaned.info()"
   ]
  },
  {
   "cell_type": "code",
   "execution_count": null,
   "id": "02ea9a0c",
   "metadata": {},
   "outputs": [],
   "source": [
    "print(\"\\n=== Beds ===\")\n",
    "kir_sp_cleaned.info()"
   ]
  },
  {
   "cell_type": "code",
   "execution_count": null,
   "id": "121ae2a5",
   "metadata": {},
   "outputs": [],
   "source": [
    "print(\"\\n=== Waiting ===\")\n",
    "kir_vt_cleaned.info()"
   ]
  },
  {
   "cell_type": "code",
   "execution_count": null,
   "id": "9aa5f64c",
   "metadata": {},
   "outputs": [],
   "source": [
    "# Merge ops, beds, and waiting on Region+Dato; rebuild a single År/Måned from Dato and drop duplicate time columns\n",
    "\n",
    "import pandas as pd\n",
    "\n",
    "def merge_all(kir_op_cleaned, kir_sp_cleaned, kir_vt_cleaned):\n",
    "    df = (kir_op_cleaned\n",
    "            .merge(kir_sp_cleaned, on=[\"Region\",\"Dato\"], how=\"inner\", suffixes=(\"_op\",\"_beds\"))\n",
    "            .merge(kir_vt_cleaned, on=[\"Region\",\"Dato\"], how=\"inner\", suffixes=(\"\", \"_wait\")))\n",
    "\n",
    "    df[\"År\"] = pd.to_datetime(df[\"Dato\"]).dt.year\n",
    "    df[\"Måned\"] = pd.to_datetime(df[\"Dato\"]).dt.month\n",
    "\n",
    "    dup_cols = [c for c in df.columns\n",
    "                if (c.startswith(\"År\") or c.startswith(\"Måned\")) and c not in (\"År\", \"Måned\")]\n",
    "    df = df.drop(columns=dup_cols)\n",
    "\n",
    "    return df\n",
    "\n",
    "all_kir_cleaned = merge_all(kir_op_cleaned, kir_sp_cleaned, kir_vt_cleaned)\n",
    "\n",
    "display(all_kir_cleaned)"
   ]
  },
  {
   "cell_type": "code",
   "execution_count": null,
   "id": "acb91b8c",
   "metadata": {},
   "outputs": [],
   "source": [
    "# Import the custom histogram function and matplotlib for styling\n",
    "from hosp_hist import plot_hosp_histogram\n",
    "import matplotlib.pyplot as plt\n",
    "\n",
    "# Set global style for cleaner and more consistent visuals\n",
    "plt.rcParams[\"figure.figsize\"] = (10, 6)\n",
    "plt.rcParams[\"axes.titlesize\"] = 16\n",
    "plt.rcParams[\"axes.labelsize\"] = 12\n",
    "\n",
    "# Define the region column name (makes it easier to change later if needed)\n",
    "REGION_COL = \"Region\""
   ]
  },
  {
   "cell_type": "code",
   "execution_count": null,
   "id": "56ef5bf3",
   "metadata": {},
   "outputs": [],
   "source": [
    "# These derived metrics make the histograms more meaningful for analysis.\n",
    "# They represent workload, efficiency, and pressure on hospital capacity.\n",
    "\n",
    "# Patients per available bed: how many patients each available bed \"supports\"\n",
    "all_kir_cleaned[\"Patienter_pr_disponibel_seng\"] = (\n",
    "    all_kir_cleaned[\"Patienter_total\"] / all_kir_cleaned[\"Disponible_senge\"]\n",
    ")\n",
    "\n",
    "# Surgeries per available bed: how much surgical activity each bed handles\n",
    "all_kir_cleaned[\"Operationer_pr_disponibel_seng\"] = (\n",
    "    all_kir_cleaned[\"Kirurgi_Operationer_total\"] / all_kir_cleaned[\"Disponible_senge\"]\n",
    ")\n",
    "\n",
    "# Waiting list per 100 available beds: standardizes waiting list size relative to capacity\n",
    "all_kir_cleaned[\"Venteliste_pr_100_disponible\"] = (\n",
    "    100 * all_kir_cleaned[\"Kirurgi_Venteliste_total\"] / all_kir_cleaned[\"Disponible_senge\"]\n",
    ")\n",
    "\n",
    "# Get a list of all regions to iterate through\n",
    "regions = sorted(all_kir_cleaned[REGION_COL].dropna().unique())\n",
    "regions"
   ]
  },
  {
   "cell_type": "code",
   "execution_count": null,
   "id": "cdc7a530",
   "metadata": {},
   "outputs": [],
   "source": [
    "# These histograms show the distribution of available and normed surgical beds per region.\n",
    "# Useful for seeing whether some regions consistently have higher or lower capacity.\n",
    "\n",
    "for r in regions:\n",
    "    sub = all_kir_cleaned[all_kir_cleaned[REGION_COL] == r]\n",
    "    plot_hosp_histogram(\n",
    "        sub[[\"Disponible_senge\", \"Normerede_senge\"]],\n",
    "        title=f\"Distribution of Surgical Capacity – {r}\",\n",
    "        x_label=\"Number of Beds\",\n",
    "        y_label=\"Frequency\",\n",
    "        color=\"skyblue\",\n",
    "        show_skewer=True,\n",
    "    )"
   ]
  },
  {
   "cell_type": "code",
   "execution_count": null,
   "id": "28e97c24",
   "metadata": {},
   "outputs": [],
   "source": [
    "# Shows the distribution of total monthly surgical operations per region.\n",
    "# Helps identify which regions have higher or lower activity levels or larger fluctuations.\n",
    "\n",
    "for r in regions:\n",
    "    sub = all_kir_cleaned[all_kir_cleaned[REGION_COL] == r]\n",
    "    plot_hosp_histogram(\n",
    "        sub[[\"Kirurgi_Operationer_total\"]],\n",
    "        title=f\"Surgical Activity (Monthly Operations) – {r}\",\n",
    "        x_label=\"Number of Operations\",\n",
    "        y_label=\"Frequency\",\n",
    "        color=\"lightgreen\",\n",
    "    )"
   ]
  },
  {
   "cell_type": "code",
   "execution_count": null,
   "id": "3810a494",
   "metadata": {},
   "outputs": [],
   "source": [
    "# Displays the number of patients within each waiting time category for each region.\n",
    "# Helps compare whether some regions have more patients in the long waiting categories (e.g., 90+ days).\n",
    "\n",
    "for r in regions:\n",
    "    sub = all_kir_cleaned[all_kir_cleaned[REGION_COL] == r]\n",
    "    plot_hosp_histogram(\n",
    "        sub[\n",
    "            [\n",
    "                \"Kirurgi_Ventetid_0_30_dage\",\n",
    "                \"Kirurgi_Ventetid_31_60_dage\",\n",
    "                \"Kirurgi_Ventetid_61_90_dage\",\n",
    "                \"Kirurgi_Ventetid_90_plus_dage\",\n",
    "            ]\n",
    "        ],\n",
    "        title=f\"Distribution of Patients by Waiting Time Category – {r}\",\n",
    "        x_label=\"Number of Patients\",\n",
    "        y_label=\"Frequency\",\n",
    "        color=\"lightcoral\",\n",
    "    )"
   ]
  },
  {
   "cell_type": "code",
   "execution_count": null,
   "id": "7a81628c",
   "metadata": {},
   "outputs": [],
   "source": [
    "# These histograms visualize the derived KPIs, showing the relationship between activity, capacity, and waiting times.\n",
    "# They reveal how efficiently each region utilizes its surgical capacity.\n",
    "\n",
    "for r in regions:\n",
    "    sub = all_kir_cleaned[all_kir_cleaned[REGION_COL] == r]\n",
    "\n",
    "    # Patients per available bed: system load relative to capacity\n",
    "    plot_hosp_histogram(\n",
    "        sub[[\"Patienter_pr_disponibel_seng\"]],\n",
    "        title=f\"Patients per Available Bed – {r}\",\n",
    "        x_label=\"Patients per Bed\",\n",
    "        y_label=\"Frequency\",\n",
    "        color=\"mediumpurple\",\n",
    "    )\n",
    "\n",
    "    # Surgeries per available bed: how productive each region is with its capacity\n",
    "    plot_hosp_histogram(\n",
    "        sub[[\"Operationer_pr_disponibel_seng\"]],\n",
    "        title=f\"Surgeries per Available Bed – {r}\",\n",
    "        x_label=\"Surgeries per Bed\",\n",
    "        y_label=\"Frequency\",\n",
    "        color=\"orange\",\n",
    "    )\n",
    "\n",
    "    # Waiting list per 100 available beds: backlog intensity relative to capacity\n",
    "    plot_hosp_histogram(\n",
    "        sub[[\"Venteliste_pr_100_disponible\"]],\n",
    "        title=f\"Waiting List per 100 Available Beds – {r}\",\n",
    "        x_label=\"Patients (per 100 Beds)\",\n",
    "        y_label=\"Frequency\",\n",
    "        color=\"steelblue\",\n",
    "    )"
   ]
  },
  {
   "cell_type": "code",
   "execution_count": null,
   "id": "38944d3a",
   "metadata": {},
   "outputs": [],
   "source": [
    "display(all_kir_cleaned)"
   ]
  },
  {
   "cell_type": "code",
   "execution_count": null,
   "id": "dd03b485",
   "metadata": {},
   "outputs": [],
   "source": [
    "from hosp_heatmap import plot_hosp_heatmap\n",
    "\n",
    "plot_hosp_heatmap(all_kir_cleaned)"
   ]
  },
  {
   "cell_type": "code",
   "execution_count": null,
   "id": "d90d0460",
   "metadata": {},
   "outputs": [],
   "source": [
    "from hosp_scatp import plot_hosp_scatter\n",
    "\n",
    "plot_hosp_scatter(all_kir_cleaned, title = \"Available Beds vs Patients Waiting 0–30 Days\", x_col = \"Disponible_senge\", y_col = \"Kirurgi_Ventetid_0_30_dage\")"
   ]
  },
  {
   "cell_type": "code",
   "execution_count": null,
   "id": "539af30e",
   "metadata": {},
   "outputs": [],
   "source": [
    "plot_hosp_scatter(all_kir_cleaned, title = \"Available Beds vs Patients Waiting 31–60 Days\", x_col = \"Disponible_senge\", y_col = \"Kirurgi_Ventetid_31_60_dage\")"
   ]
  },
  {
   "cell_type": "code",
   "execution_count": null,
   "id": "ef68851d",
   "metadata": {},
   "outputs": [],
   "source": [
    "plot_hosp_scatter(all_kir_cleaned, title = \"Available Beds vs Patients Waiting 90 Plus Days\", x_col = \"Disponible_senge\", y_col = \"Kirurgi_Ventetid_90_plus_dage\")"
   ]
  },
  {
   "cell_type": "code",
   "execution_count": null,
   "id": "6506d564",
   "metadata": {},
   "outputs": [],
   "source": [
    "plot_hosp_scatter(all_kir_cleaned, title = \"Surgical Operations vs Total Waiting List\", x_col = \"Kirurgi_Operationer_total\", y_col = \"Kirurgi_Venteliste_total\")"
   ]
  },
  {
   "cell_type": "code",
   "execution_count": null,
   "id": "bb2e51c3",
   "metadata": {},
   "outputs": [],
   "source": [
    "plot_hosp_scatter(all_kir_cleaned, title = \"Normed Beds vs Available Beds Per Patient\", x_col = \"Belægningsgrad_normerede\", y_col = \"Patienter_pr_disponibel_seng\")"
   ]
  },
  {
   "cell_type": "code",
   "execution_count": null,
   "id": "17a81671",
   "metadata": {},
   "outputs": [],
   "source": [
    "from hosp_lineplot import plot_capacity_over_time\n",
    "\n",
    "plot_capacity_over_time(\n",
    "    all_kir_cleaned,\n",
    "    y_cols=[\"Disponible_senge\"],\n",
    "    title=\"Development of Available Surgical Bed Capacity Over Time (per Region)\"\n",
    ")\n",
    "\n",
    "# Decrease in July-August months possibly due to staffing eg. vacations and holidays."
   ]
  },
  {
   "cell_type": "code",
   "execution_count": null,
   "id": "03024b06",
   "metadata": {},
   "outputs": [],
   "source": [
    "from hosp_lineplot import plot_capacity_over_time\n",
    "\n",
    "plot_capacity_over_time(\n",
    "    all_kir_cleaned,\n",
    "    y_cols=[\"Normerede_senge\"],\n",
    "    title=\"Development of Available Surgical Bed Capacity Over Time (per Region)\"\n",
    ")\n",
    "\n",
    "# Again small decreases in july-august, but in general its more steady with a downwards trend"
   ]
  },
  {
   "cell_type": "code",
   "execution_count": null,
   "id": "c27078b2",
   "metadata": {},
   "outputs": [],
   "source": [
    "plot_capacity_over_time(\n",
    "    all_kir_cleaned,\n",
    "    y_cols=[\"Kirurgi_Operationer_total\"],\n",
    "    title=\"Development of Surgical Operations Over Time (per Region)\"\n",
    ")"
   ]
  },
  {
   "cell_type": "code",
   "execution_count": null,
   "id": "60585d31",
   "metadata": {},
   "outputs": [],
   "source": [
    "plot_capacity_over_time(\n",
    "    all_kir_cleaned,\n",
    "    y_cols=[\"Kirurgi_Venteliste_total\"],\n",
    "    title=\"Development of Surgical Waiting List Over Time (per Region)\"\n",
    ")"
   ]
  },
  {
   "cell_type": "code",
   "execution_count": null,
   "id": "1fdb105a",
   "metadata": {},
   "outputs": [],
   "source": [
    "from hosp_boxplot import plot_hosp_boxplots\n",
    "\n",
    "plot_hosp_boxplots(all_kir_cleaned)"
   ]
  },
  {
   "cell_type": "markdown",
   "id": "c28a2e23",
   "metadata": {},
   "source": [
    "#### Note on Outliers \n",
    "We observed outliers in both available and normed beds. These outliers primarily come from Region Hovedstaden, whose capacity is significantly higher than that of other regions. Therefore, we consider these values representative rather than erroneous, and we decided not to exclude them."
   ]
  },
  {
   "cell_type": "code",
   "execution_count": null,
   "id": "925b448d",
   "metadata": {},
   "outputs": [],
   "source": [
    "# --- Feature Engineering ---\n",
    "all_kir_cleaned[\"År\"] = all_kir_cleaned[\"Dato\"].dt.year\n",
    "all_kir_cleaned[\"Måned\"] = all_kir_cleaned[\"Dato\"].dt.month\n",
    "all_kir_cleaned[\"Quarter\"] = all_kir_cleaned[\"Dato\"].dt.to_period(\"Q\")\n",
    "\n",
    "# For modeling later\n",
    "all_kir_encoded = pd.get_dummies(all_kir_cleaned, columns=[\"Region\"], drop_first=True)\n",
    "\n",
    "display(all_kir_encoded.head())\n"
   ]
  },
  {
   "cell_type": "code",
   "execution_count": null,
   "id": "2a5e81b6",
   "metadata": {},
   "outputs": [],
   "source": [
    "from sklearn.model_selection import train_test_split\n",
    "from sklearn.linear_model import LinearRegression\n",
    "from sklearn import metrics\n",
    "import numpy as np\n",
    "import pandas as pd\n",
    "\n",
    "# --- Prepare data ---\n",
    "df_model = all_kir_encoded.drop(columns=[\"Dato\", \"Quarter\"], errors=\"ignore\")\n",
    "\n",
    "# --- Choose target and features ---\n",
    "y = df_model[\"Kirurgi_Ventetid_90_plus_dage\"]\n",
    "X = df_model.drop(columns=[\n",
    "    \"Kirurgi_Ventetid_90_plus_dage\",\n",
    "    \"Kirurgi_Venteliste_total\",\n",
    "    \"Kirurgi_Ventetid_0_30_dage\",\n",
    "    \"Kirurgi_Ventetid_31_60_dage\",\n",
    "    \"Kirurgi_Ventetid_61_90_dage\"\n",
    "])\n",
    "\n",
    "# --- Train-test split ---\n",
    "X_train, X_test, y_train, y_test = train_test_split(X, y, random_state=42, test_size=0.2)\n",
    "\n",
    "# --- Train model ---\n",
    "linreg = LinearRegression()\n",
    "linreg.fit(X_train, y_train)\n",
    "\n",
    "# --- Evaluate ---\n",
    "y_pred = linreg.predict(X_test)\n",
    "\n",
    "print(\"MAE:\", metrics.mean_absolute_error(y_test, y_pred))\n",
    "print(\"RMSE:\", np.sqrt(metrics.mean_squared_error(y_test, y_pred)))\n",
    "print(\"R²:\", metrics.r2_score(y_test, y_pred))\n",
    "\n",
    "# --- Coefficients ---\n",
    "coef_table = pd.DataFrame({\n",
    "    \"Feature\": X_train.columns,\n",
    "    \"Coefficient\": linreg.coef_\n",
    "}).sort_values(by=\"Coefficient\", ascending=False)\n",
    "\n",
    "print(coef_table.head(10))\n"
   ]
  },
  {
   "cell_type": "markdown",
   "id": "a43eaaa1",
   "metadata": {},
   "source": [
    "###\n",
    "A multiple linear regression model predicting patients waiting 90+ days achieved an R² of 0.61, suggesting moderate explanatory power.\n",
    "The strongest predictors were surgical activity per available bed (+8.06) and bed occupancy (+3.91), both positively associated with longer waiting times, indicating capacity strain.\n",
    "Conversely, higher numbers of normed or available beds were associated with shorter waiting times (−0.12 and −0.29 respectively), supporting the hypothesis that increased capacity reduces delays.\n",
    "Seasonal and regional effects also appear relevant, as later months showed slightly reduced long waits."
   ]
  },
  {
   "cell_type": "code",
   "execution_count": null,
   "id": "882f20fa",
   "metadata": {},
   "outputs": [],
   "source": [
    "df_model[\"HighLoad\"] = (\n",
    "    df_model[\"Kirurgi_Ventetid_90_plus_dage\"] >\n",
    "    df_model[\"Kirurgi_Ventetid_90_plus_dage\"].quantile(0.75)\n",
    ").astype(int)\n",
    "\n",
    "y = df_model[\"HighLoad\"]\n",
    "X = df_model.drop(columns=[\"HighLoad\"])\n",
    "\n",
    "from sklearn.ensemble import RandomForestClassifier\n",
    "from sklearn.model_selection import train_test_split\n",
    "from sklearn.metrics import classification_report, confusion_matrix\n",
    "\n",
    "X_train, X_test, y_train, y_test = train_test_split(X, y, random_state=42, test_size=0.2)\n",
    "model = RandomForestClassifier(max_depth=6, n_estimators=100, random_state=42)\n",
    "model.fit(X_train, y_train)\n",
    "\n",
    "y_pred = model.predict(X_test)\n",
    "print(confusion_matrix(y_test, y_pred))\n",
    "print(classification_report(y_test, y_pred))\n"
   ]
  },
  {
   "cell_type": "code",
   "execution_count": null,
   "id": "f864f165",
   "metadata": {},
   "outputs": [],
   "source": [
    "import seaborn as sns\n",
    "\n",
    "plt.figure(figsize=(6,4))\n",
    "sns.heatmap(confusion_matrix(y_test, y_pred), annot=True, fmt=\"d\", cmap=\"Blues\",\n",
    "            xticklabels=[\"Normal Load\", \"High Load\"],\n",
    "            yticklabels=[\"Normal Load\", \"High Load\"])\n",
    "plt.title(\"Confusion Matrix – Predicting High Load Months\")\n",
    "plt.xlabel(\"Predicted\")\n",
    "plt.ylabel(\"Actual\")\n",
    "plt.show()\n"
   ]
  },
  {
   "cell_type": "code",
   "execution_count": null,
   "id": "c79e229d",
   "metadata": {},
   "outputs": [],
   "source": [
    "feat_imp = pd.DataFrame({\n",
    "    \"Feature\": X_train.columns,\n",
    "    \"Importance\": model.feature_importances_\n",
    "}).sort_values(by=\"Importance\", ascending=False)\n",
    "\n",
    "plt.figure(figsize=(10,6))\n",
    "sns.barplot(y=\"Feature\", x=\"Importance\", data=feat_imp.head(10), palette=\"viridis\")\n",
    "plt.title(\"Top 10 Predictors of High Load (90+ Day Waiting Time)\")\n",
    "plt.xlabel(\"Importance\")\n",
    "plt.ylabel(\"Feature\")\n",
    "plt.show()\n"
   ]
  },
  {
   "cell_type": "code",
   "execution_count": null,
   "id": "250f68cd",
   "metadata": {},
   "outputs": [],
   "source": [
    "from sklearn.cluster import KMeans\n",
    "from sklearn.metrics import silhouette_score\n",
    "import matplotlib.pyplot as plt\n",
    "\n",
    "df_cluster = df_model.select_dtypes(include=[np.number]).fillna(0)\n",
    "\n",
    "X = df_cluster.values\n",
    "\n",
    "# --- Elbow method ---\n",
    "distortions = []\n",
    "K = range(2, 10)\n",
    "for k in K:\n",
    "    model = KMeans(n_clusters=k, random_state=42, n_init=10)\n",
    "    model.fit(X)\n",
    "    distortions.append(model.inertia_)\n",
    "\n",
    "plt.plot(K, distortions, 'bx-')\n",
    "plt.title(\"Elbow Method for Optimal K\")\n",
    "plt.xlabel(\"Number of Clusters (K)\")\n",
    "plt.ylabel(\"Inertia (Distortion)\")\n",
    "plt.show()"
   ]
  },
  {
   "cell_type": "code",
   "execution_count": null,
   "id": "dd55e01d",
   "metadata": {},
   "outputs": [],
   "source": [
    "# --- Silhouette Score ---\n",
    "scores = []\n",
    "for k in K:\n",
    "    model = KMeans(n_clusters=k, random_state=42, n_init=10)\n",
    "    model.fit(X)\n",
    "    score = silhouette_score(X, model.labels_)\n",
    "    scores.append(score)\n",
    "\n",
    "plt.plot(K, scores, 'bx-')\n",
    "plt.title(\"Silhouette Method\")\n",
    "plt.xlabel(\"Number of Clusters (K)\")\n",
    "plt.ylabel(\"Silhouette Score\")\n",
    "plt.show()"
   ]
  },
  {
   "cell_type": "code",
   "execution_count": null,
   "id": "61665a27",
   "metadata": {},
   "outputs": [],
   "source": [
    "# --- Clustering prep (scale features and fit KMeans) ---\n",
    "from sklearn.preprocessing import StandardScaler\n",
    "from sklearn.cluster import KMeans\n",
    "from sklearn.decomposition import PCA\n",
    "import numpy as np\n",
    "import pandas as pd\n",
    "import matplotlib.pyplot as plt\n",
    "\n",
    "# Choose numeric features (drop identifiers/time/leakage if present)\n",
    "cluster_feats = [\n",
    "    \"Disponible_senge\",\"Normerede_senge\",\"Belægningsgrad_disponible\",\"Belægningsgrad_normerede\",\n",
    "    \"Kirurgi_Operationer_total\",\"Kirurgi_Venteliste_total\",\n",
    "    \"Kirurgi_Ventetid_0_30_dage\",\"Kirurgi_Ventetid_31_60_dage\",\"Kirurgi_Ventetid_61_90_dage\",\"Kirurgi_Ventetid_90_plus_dage\",\n",
    "    \"Patienter_total\",\"Patienter_pr_disponibel_seng\",\"Operationer_pr_disponibel_seng\",\"Venteliste_pr_100_disponible\",\n",
    "    \"År\",\"Måned\"\n",
    "]\n",
    "cluster_feats = [c for c in cluster_feats if c in all_kir_encoded.columns]\n",
    "\n",
    "X_raw = all_kir_encoded[cluster_feats].fillna(0).values\n",
    "\n",
    "scaler = StandardScaler()\n",
    "X = scaler.fit_transform(X_raw)\n",
    "\n",
    "# Fit KMeans\n",
    "k = 3  # adjust if elbow/silhouette suggests otherwise\n",
    "kmeans = KMeans(n_clusters=k, n_init=20, random_state=42)\n",
    "labels = kmeans.fit_predict(X)\n",
    "centers_scaled = kmeans.cluster_centers_\n",
    "\n",
    "# Transform centers back to original scale (optional, for profiling)\n",
    "centers_orig = scaler.inverse_transform(centers_scaled)\n",
    "\n",
    "print(f\"Fitted KMeans with k={k}. Cluster sizes:\", np.bincount(labels))\n"
   ]
  },
  {
   "cell_type": "code",
   "execution_count": null,
   "id": "7c439ecc",
   "metadata": {},
   "outputs": [],
   "source": [
    "# --- 2D PCA visualization of clusters ---\n",
    "from matplotlib.lines import Line2D\n",
    "from sklearn.decomposition import PCA\n",
    "\n",
    "pca2 = PCA(n_components=2, random_state=42)\n",
    "X2 = pca2.fit_transform(X)\n",
    "centers2 = pca2.transform(centers_scaled)\n",
    "\n",
    "plt.figure(figsize=(8,6))\n",
    "scatter = plt.scatter(X2[:,0], X2[:,1], c=labels, s=30, cmap=\"viridis\", alpha=0.8)\n",
    "plt.scatter(centers2[:,0], centers2[:,1], marker=\"x\", s=200, linewidths=2, color=\"red\", label=\"Centers\")\n",
    "plt.title(\"KMeans Clusters (PCA 2D)\")\n",
    "plt.xlabel(f\"PC1 ({pca2.explained_variance_ratio_[0]*100:.1f}% var)\")\n",
    "plt.ylabel(f\"PC2 ({pca2.explained_variance_ratio_[1]*100:.1f}% var)\")\n",
    "plt.grid(True, alpha=0.3)\n",
    "plt.legend(handles=[\n",
    "    Line2D([0],[0], marker='o', color='w', label='Points', markerfacecolor='#4c78a8', markersize=8),\n",
    "    Line2D([0],[0], marker='x', color='red', label='Centers', markersize=10, linewidth=2)\n",
    "])\n",
    "plt.tight_layout()\n",
    "plt.show()\n"
   ]
  },
  {
   "cell_type": "code",
   "execution_count": null,
   "id": "acf1ec56",
   "metadata": {},
   "outputs": [],
   "source": [
    "# --- 3D PCA visualization of clusters ---\n",
    "from mpl_toolkits.mplot3d import Axes3D  # noqa: F401\n",
    "\n",
    "pca3 = PCA(n_components=3, random_state=42)\n",
    "X3 = pca3.fit_transform(X)\n",
    "centers3 = pca3.transform(centers_scaled)\n",
    "\n",
    "fig = plt.figure(figsize=(8,6))\n",
    "ax = fig.add_subplot(projection=\"3d\")\n",
    "ax.set_title(\"KMeans Clusters (PCA 3D)\")\n",
    "\n",
    "ax.scatter(X3[:,0], X3[:,1], X3[:,2], c=labels, cmap=\"viridis\", s=15, alpha=0.8)\n",
    "ax.scatter(centers3[:,0], centers3[:,1], centers3[:,2], marker=\"x\", s=200, linewidths=2, color=\"red\")\n",
    "\n",
    "ax.set_xlabel(f\"PC1 ({pca3.explained_variance_ratio_[0]*100:.1f}%)\")\n",
    "ax.set_ylabel(f\"PC2 ({pca3.explained_variance_ratio_[1]*100:.1f}%)\")\n",
    "ax.set_zlabel(f\"PC3 ({pca3.explained_variance_ratio_[2]*100:.1f}%)\")\n",
    "\n",
    "plt.tight_layout()\n",
    "plt.show()\n"
   ]
  },
  {
   "cell_type": "code",
   "execution_count": null,
   "id": "559302ab",
   "metadata": {},
   "outputs": [],
   "source": [
    "# --- Profile clusters in original feature space ---\n",
    "prof = pd.DataFrame(centers_orig, columns=cluster_feats)\n",
    "prof[\"Cluster\"] = range(k)\n",
    "\n",
    "# Add counts per cluster\n",
    "counts = pd.Series(labels).value_counts().sort_index().rename(\"Count\")\n",
    "prof = prof.join(counts, on=\"Cluster\")\n",
    "\n",
    "# Optional: region composition per cluster\n",
    "tmp = all_kir_encoded.copy()\n",
    "tmp[\"Cluster\"] = labels\n",
    "region_cols = [c for c in tmp.columns if c.startswith(\"Region_\")]\n",
    "region_mix = tmp.groupby(\"Cluster\")[region_cols].mean().round(2) if region_cols else pd.DataFrame()\n",
    "\n",
    "print(\"=== Cluster Centers (original scale) ===\")\n",
    "display(prof.round(2))\n",
    "\n",
    "if not region_mix.empty:\n",
    "    print(\"=== Region share per cluster (approx., from dummies) ===\")\n",
    "    display(region_mix)"
   ]
  },
  {
   "cell_type": "code",
   "execution_count": null,
   "id": "057ed15a",
   "metadata": {},
   "outputs": [],
   "source": [
    "# --- Train a small Decision Tree to explain HighLoad ---\n",
    "from sklearn.tree import DecisionTreeClassifier, plot_tree\n",
    "from sklearn.model_selection import train_test_split\n",
    "from sklearn.metrics import classification_report, confusion_matrix\n",
    "\n",
    "# Ensure your HighLoad exists (top 25% 90+ waiting)\n",
    "df_tree = all_kir_encoded.copy()\n",
    "if \"HighLoad\" not in df_tree.columns:\n",
    "    df_tree[\"HighLoad\"] = (df_tree[\"Kirurgi_Ventetid_90_plus_dage\"] >\n",
    "                           df_tree[\"Kirurgi_Ventetid_90_plus_dage\"].quantile(0.75)).astype(int)\n",
    "\n",
    "# Features (drop obvious leak/targets)\n",
    "drop_cols = [\n",
    "    \"HighLoad\",\"Dato\",\"Quarter\",\n",
    "    \"Kirurgi_Venteliste_total\",\n",
    "    \"Kirurgi_Ventetid_0_30_dage\",\"Kirurgi_Ventetid_31_60_dage\",\n",
    "    \"Kirurgi_Ventetid_61_90_dage\",\"Kirurgi_Ventetid_90_plus_dage\"\n",
    "]\n",
    "X = df_tree.drop(columns=[c for c in drop_cols if c in df_tree.columns], errors=\"ignore\")\n",
    "y = df_tree[\"HighLoad\"]\n",
    "\n",
    "X_train, X_test, y_train, y_test = train_test_split(X, y, test_size=0.2, random_state=42)\n",
    "\n",
    "tree_clf = DecisionTreeClassifier(max_depth=4, min_samples_leaf=10, random_state=42)\n",
    "tree_clf.fit(X_train, y_train)\n",
    "\n",
    "y_pred = tree_clf.predict(X_test)\n",
    "print(confusion_matrix(y_test, y_pred))\n",
    "print(classification_report(y_test, y_pred, digits=3))\n",
    "\n",
    "# Quick in-notebook visualization (fallback if Graphviz isn't installed)\n",
    "plt.figure(figsize=(14,8))\n",
    "plot_tree(tree_clf, feature_names=X.columns, class_names=[\"Normal\",\"HighLoad\"],\n",
    "          filled=True, rounded=True, impurity=False, fontsize=9)\n",
    "plt.title(\"Decision Tree – Predicting High Load\")\n",
    "plt.tight_layout()\n",
    "plt.show()\n"
   ]
  },
  {
   "cell_type": "code",
   "execution_count": null,
   "id": "b819891e",
   "metadata": {},
   "outputs": [],
   "source": [
    "# --- Export a tree via Graphviz ---\n",
    "import os\n",
    "from sklearn import tree\n",
    "import graphviz\n",
    "\n",
    "dot = tree.export_graphviz(\n",
    "    tree_clf,\n",
    "    out_file=None,\n",
    "    feature_names=X.columns,\n",
    "    class_names=[\"Normal\",\"HighLoad\"],\n",
    "    filled=True, rounded=True, special_characters=True\n",
    ")\n",
    "\n",
    "graph = graphviz.Source(dot)\n",
    "# Change filenames if you want PNG instead\n",
    "out_base = \"hospital_highload_tree\"\n",
    "graph.render(out_base, format=\"pdf\", cleanup=True)\n",
    "\n",
    "print(f\"Graphviz tree saved to: {out_base}.pdf\")\n"
   ]
  }
 ],
 "metadata": {
  "kernelspec": {
   "display_name": "base",
   "language": "python",
   "name": "python3"
  },
  "language_info": {
   "codemirror_mode": {
    "name": "ipython",
    "version": 3
   },
   "file_extension": ".py",
   "mimetype": "text/x-python",
   "name": "python",
   "nbconvert_exporter": "python",
   "pygments_lexer": "ipython3",
   "version": "3.13.5"
  }
 },
 "nbformat": 4,
 "nbformat_minor": 5
}
